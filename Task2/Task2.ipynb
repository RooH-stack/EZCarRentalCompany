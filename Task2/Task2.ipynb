{
 "cells": [
  {
   "cell_type": "code",
   "execution_count": 118,
   "metadata": {},
   "outputs": [],
   "source": [
    "import pandas as pd\n",
    "import numpy as np\n",
    "import datetime\n",
    "import seaborn as sns\n",
    "import matplotlib.pyplot as plt\n",
    "%matplotlib inline"
   ]
  },
  {
   "cell_type": "markdown",
   "metadata": {},
   "source": [
    "**Below function was is used in \"Task 1\" to create dfJourneysSanFranciscoDerived.csv**\n",
    "**dfJourneysSanFranciscoDerived.csv is merged data from journeys and utilization for San Francisco location**\n",
    "\n",
    "def get_car_availablity(row):\n",
    "    df = dfUtilizationSanFrancisco.loc[(dfUtilizationSanFrancisco.carId == row['carId']) \\\n",
    "                 & (dfUtilizationSanFrancisco.hourlyTimestamp >= row['localTripStartTime']) \\\n",
    "                 & (dfUtilizationSanFrancisco.hourlyTimestamp <= row['localTripEndTime'])]\n",
    "    return df.aggregate({\"availableTimeInMinutes\":['sum']}).iloc[0] / 60\n",
    "\n",
    "def get_car_utilization(row):\n",
    "    df = dfUtilizationSanFrancisco.loc[(dfUtilizationSanFrancisco.carId == row['carId']) \\\n",
    "                 & (dfUtilizationSanFrancisco.hourlyTimestamp >= row['localTripStartTime']) \\\n",
    "                 & (dfUtilizationSanFrancisco.hourlyTimestamp <= row['localTripEndTime'])]\n",
    "    return df.aggregate({\"utilizationTimeInMinutes\":['sum']}).iloc[0] / 60\n",
    "\n",
    "dfJourneysSanFrancisco['utilizationInHour'] = dfJourneysSanFrancisco.apply(lambda x: get_car_utilization(x), axis=1)\n",
    "dfJourneysSanFrancisco['availabilityInHour'] = dfJourneysSanFrancisco.apply(lambda x: get_car_availablity(x), axis=1)\n",
    "\n",
    "dfJourneysSanFrancisco.to_csv (r'dfJourneysSanFranciscoDerived.csv', index = False, header=True)"
   ]
  },
  {
   "cell_type": "code",
   "execution_count": 119,
   "metadata": {},
   "outputs": [
    {
     "data": {
      "text/html": [
       "<div>\n",
       "<style scoped>\n",
       "    .dataframe tbody tr th:only-of-type {\n",
       "        vertical-align: middle;\n",
       "    }\n",
       "\n",
       "    .dataframe tbody tr th {\n",
       "        vertical-align: top;\n",
       "    }\n",
       "\n",
       "    .dataframe thead th {\n",
       "        text-align: right;\n",
       "    }\n",
       "</style>\n",
       "<table border=\"1\" class=\"dataframe\">\n",
       "  <thead>\n",
       "    <tr style=\"text-align: right;\">\n",
       "      <th></th>\n",
       "      <th>tripId</th>\n",
       "      <th>carId</th>\n",
       "      <th>carParkingZipCode</th>\n",
       "      <th>carParkingCity</th>\n",
       "      <th>localTripStartTime</th>\n",
       "      <th>localTripEndTime</th>\n",
       "      <th>localTripCreationTime</th>\n",
       "      <th>priceInDollar</th>\n",
       "      <th>TripStartHour</th>\n",
       "      <th>TripStartDay</th>\n",
       "      <th>TripStartMonth</th>\n",
       "      <th>TripStartWeekDay</th>\n",
       "      <th>tripDurationInHour</th>\n",
       "      <th>preBookingDurationInHour</th>\n",
       "      <th>utilizationInHour</th>\n",
       "      <th>availabilityInHour</th>\n",
       "    </tr>\n",
       "  </thead>\n",
       "  <tbody>\n",
       "    <tr>\n",
       "      <th>0</th>\n",
       "      <td>00010247034d28272cf5e1e16b43f52f</td>\n",
       "      <td>9ddac6a5fb0b3962db3b2f42fd31d3f9</td>\n",
       "      <td>94110</td>\n",
       "      <td>San Francisco</td>\n",
       "      <td>2017-11-14 22:15:00</td>\n",
       "      <td>2017-11-15 02:15:00</td>\n",
       "      <td>2017-11-14 20:32:59</td>\n",
       "      <td>20.00</td>\n",
       "      <td>22</td>\n",
       "      <td>14</td>\n",
       "      <td>11</td>\n",
       "      <td>1</td>\n",
       "      <td>4</td>\n",
       "      <td>1</td>\n",
       "      <td>3.75</td>\n",
       "      <td>4.0</td>\n",
       "    </tr>\n",
       "    <tr>\n",
       "      <th>1</th>\n",
       "      <td>0001556e5d28e66b3318e89c094186c4</td>\n",
       "      <td>0f386ec90e0710ca143922520eaf8a3e</td>\n",
       "      <td>94117</td>\n",
       "      <td>San Francisco</td>\n",
       "      <td>2017-12-07 17:00:00</td>\n",
       "      <td>2017-12-08 04:00:00</td>\n",
       "      <td>2017-12-07 04:51:42</td>\n",
       "      <td>55.00</td>\n",
       "      <td>17</td>\n",
       "      <td>7</td>\n",
       "      <td>12</td>\n",
       "      <td>3</td>\n",
       "      <td>11</td>\n",
       "      <td>12</td>\n",
       "      <td>11.50</td>\n",
       "      <td>12.0</td>\n",
       "    </tr>\n",
       "    <tr>\n",
       "      <th>2</th>\n",
       "      <td>000286e8771651e6983555c62558b57f</td>\n",
       "      <td>63e4509c686d891f5364c24339369460</td>\n",
       "      <td>94115</td>\n",
       "      <td>San Francisco</td>\n",
       "      <td>2017-03-23 10:00:00</td>\n",
       "      <td>2017-03-23 12:00:00</td>\n",
       "      <td>2017-03-23 08:49:48</td>\n",
       "      <td>18.00</td>\n",
       "      <td>10</td>\n",
       "      <td>23</td>\n",
       "      <td>3</td>\n",
       "      <td>3</td>\n",
       "      <td>2</td>\n",
       "      <td>1</td>\n",
       "      <td>2.50</td>\n",
       "      <td>3.0</td>\n",
       "    </tr>\n",
       "    <tr>\n",
       "      <th>3</th>\n",
       "      <td>0003651ffd2f07a7226fd6b7c979fecb</td>\n",
       "      <td>c9fbe5bf8e406cd13bd33ff5411fa3e3</td>\n",
       "      <td>94103</td>\n",
       "      <td>San Francisco</td>\n",
       "      <td>2017-07-05 19:00:00</td>\n",
       "      <td>2017-07-06 01:45:00</td>\n",
       "      <td>2017-07-05 01:07:31</td>\n",
       "      <td>33.75</td>\n",
       "      <td>19</td>\n",
       "      <td>5</td>\n",
       "      <td>7</td>\n",
       "      <td>2</td>\n",
       "      <td>6</td>\n",
       "      <td>17</td>\n",
       "      <td>7.00</td>\n",
       "      <td>7.0</td>\n",
       "    </tr>\n",
       "    <tr>\n",
       "      <th>4</th>\n",
       "      <td>00046a5e37fee728d9b1c0840741f944</td>\n",
       "      <td>812d1f2214d3fe7f9624f03b1a78cb61</td>\n",
       "      <td>94123</td>\n",
       "      <td>San Francisco</td>\n",
       "      <td>2017-12-14 13:15:00</td>\n",
       "      <td>2017-12-14 14:45:00</td>\n",
       "      <td>2017-12-14 13:08:08</td>\n",
       "      <td>14.11</td>\n",
       "      <td>13</td>\n",
       "      <td>14</td>\n",
       "      <td>12</td>\n",
       "      <td>3</td>\n",
       "      <td>1</td>\n",
       "      <td>0</td>\n",
       "      <td>1.00</td>\n",
       "      <td>1.0</td>\n",
       "    </tr>\n",
       "    <tr>\n",
       "      <th>...</th>\n",
       "      <td>...</td>\n",
       "      <td>...</td>\n",
       "      <td>...</td>\n",
       "      <td>...</td>\n",
       "      <td>...</td>\n",
       "      <td>...</td>\n",
       "      <td>...</td>\n",
       "      <td>...</td>\n",
       "      <td>...</td>\n",
       "      <td>...</td>\n",
       "      <td>...</td>\n",
       "      <td>...</td>\n",
       "      <td>...</td>\n",
       "      <td>...</td>\n",
       "      <td>...</td>\n",
       "      <td>...</td>\n",
       "    </tr>\n",
       "    <tr>\n",
       "      <th>36149</th>\n",
       "      <td>fff0fc15ad79ab5e93714bafa5a6dc20</td>\n",
       "      <td>26b26593b7a0f7a80b0a7a0747882a6d</td>\n",
       "      <td>94110</td>\n",
       "      <td>San Francisco</td>\n",
       "      <td>2017-02-25 14:00:00</td>\n",
       "      <td>2017-02-25 16:00:00</td>\n",
       "      <td>2017-02-25 13:41:53</td>\n",
       "      <td>17.50</td>\n",
       "      <td>14</td>\n",
       "      <td>25</td>\n",
       "      <td>2</td>\n",
       "      <td>5</td>\n",
       "      <td>2</td>\n",
       "      <td>0</td>\n",
       "      <td>2.50</td>\n",
       "      <td>3.0</td>\n",
       "    </tr>\n",
       "    <tr>\n",
       "      <th>36150</th>\n",
       "      <td>fff8ae03853b573d81782ba277413dee</td>\n",
       "      <td>5fa4b685ba407cae4ea84b6a0fa80a0e</td>\n",
       "      <td>94103</td>\n",
       "      <td>San Francisco</td>\n",
       "      <td>2017-05-18 13:15:00</td>\n",
       "      <td>2017-05-18 22:30:00</td>\n",
       "      <td>2017-05-17 21:51:14</td>\n",
       "      <td>46.25</td>\n",
       "      <td>13</td>\n",
       "      <td>18</td>\n",
       "      <td>5</td>\n",
       "      <td>3</td>\n",
       "      <td>9</td>\n",
       "      <td>15</td>\n",
       "      <td>9.00</td>\n",
       "      <td>9.0</td>\n",
       "    </tr>\n",
       "    <tr>\n",
       "      <th>36151</th>\n",
       "      <td>fffb60627f2c2e408fef7d739543deee</td>\n",
       "      <td>d0b26f3508b4bb46f1f1b42708545df0</td>\n",
       "      <td>94108</td>\n",
       "      <td>San Francisco</td>\n",
       "      <td>2017-10-23 08:30:00</td>\n",
       "      <td>2017-10-23 18:30:00</td>\n",
       "      <td>2017-10-19 15:46:46</td>\n",
       "      <td>55.19</td>\n",
       "      <td>8</td>\n",
       "      <td>23</td>\n",
       "      <td>10</td>\n",
       "      <td>0</td>\n",
       "      <td>10</td>\n",
       "      <td>88</td>\n",
       "      <td>10.00</td>\n",
       "      <td>10.0</td>\n",
       "    </tr>\n",
       "    <tr>\n",
       "      <th>36152</th>\n",
       "      <td>fffd3b9e130841ba884e4fa880e44594</td>\n",
       "      <td>c687b40673df4c0fe842261a6d58b194</td>\n",
       "      <td>94114</td>\n",
       "      <td>San Francisco</td>\n",
       "      <td>2017-02-19 18:30:00</td>\n",
       "      <td>2017-02-19 19:45:00</td>\n",
       "      <td>2017-02-19 18:10:59</td>\n",
       "      <td>10.62</td>\n",
       "      <td>18</td>\n",
       "      <td>19</td>\n",
       "      <td>2</td>\n",
       "      <td>6</td>\n",
       "      <td>1</td>\n",
       "      <td>0</td>\n",
       "      <td>1.00</td>\n",
       "      <td>1.0</td>\n",
       "    </tr>\n",
       "    <tr>\n",
       "      <th>36153</th>\n",
       "      <td>fffe5e2ee681c47cb3b4c2a6423dd63d</td>\n",
       "      <td>02ce66c135e69716d6a7346965a5b656</td>\n",
       "      <td>94110</td>\n",
       "      <td>San Francisco</td>\n",
       "      <td>2017-02-10 13:45:00</td>\n",
       "      <td>2017-02-11 16:30:00</td>\n",
       "      <td>2017-02-09 18:16:52</td>\n",
       "      <td>114.75</td>\n",
       "      <td>13</td>\n",
       "      <td>10</td>\n",
       "      <td>2</td>\n",
       "      <td>4</td>\n",
       "      <td>26</td>\n",
       "      <td>19</td>\n",
       "      <td>27.00</td>\n",
       "      <td>27.0</td>\n",
       "    </tr>\n",
       "  </tbody>\n",
       "</table>\n",
       "<p>36154 rows × 16 columns</p>\n",
       "</div>"
      ],
      "text/plain": [
       "                                 tripId                             carId  \\\n",
       "0      00010247034d28272cf5e1e16b43f52f  9ddac6a5fb0b3962db3b2f42fd31d3f9   \n",
       "1      0001556e5d28e66b3318e89c094186c4  0f386ec90e0710ca143922520eaf8a3e   \n",
       "2      000286e8771651e6983555c62558b57f  63e4509c686d891f5364c24339369460   \n",
       "3      0003651ffd2f07a7226fd6b7c979fecb  c9fbe5bf8e406cd13bd33ff5411fa3e3   \n",
       "4      00046a5e37fee728d9b1c0840741f944  812d1f2214d3fe7f9624f03b1a78cb61   \n",
       "...                                 ...                               ...   \n",
       "36149  fff0fc15ad79ab5e93714bafa5a6dc20  26b26593b7a0f7a80b0a7a0747882a6d   \n",
       "36150  fff8ae03853b573d81782ba277413dee  5fa4b685ba407cae4ea84b6a0fa80a0e   \n",
       "36151  fffb60627f2c2e408fef7d739543deee  d0b26f3508b4bb46f1f1b42708545df0   \n",
       "36152  fffd3b9e130841ba884e4fa880e44594  c687b40673df4c0fe842261a6d58b194   \n",
       "36153  fffe5e2ee681c47cb3b4c2a6423dd63d  02ce66c135e69716d6a7346965a5b656   \n",
       "\n",
       "       carParkingZipCode carParkingCity   localTripStartTime  \\\n",
       "0                  94110  San Francisco  2017-11-14 22:15:00   \n",
       "1                  94117  San Francisco  2017-12-07 17:00:00   \n",
       "2                  94115  San Francisco  2017-03-23 10:00:00   \n",
       "3                  94103  San Francisco  2017-07-05 19:00:00   \n",
       "4                  94123  San Francisco  2017-12-14 13:15:00   \n",
       "...                  ...            ...                  ...   \n",
       "36149              94110  San Francisco  2017-02-25 14:00:00   \n",
       "36150              94103  San Francisco  2017-05-18 13:15:00   \n",
       "36151              94108  San Francisco  2017-10-23 08:30:00   \n",
       "36152              94114  San Francisco  2017-02-19 18:30:00   \n",
       "36153              94110  San Francisco  2017-02-10 13:45:00   \n",
       "\n",
       "          localTripEndTime localTripCreationTime  priceInDollar  \\\n",
       "0      2017-11-15 02:15:00   2017-11-14 20:32:59          20.00   \n",
       "1      2017-12-08 04:00:00   2017-12-07 04:51:42          55.00   \n",
       "2      2017-03-23 12:00:00   2017-03-23 08:49:48          18.00   \n",
       "3      2017-07-06 01:45:00   2017-07-05 01:07:31          33.75   \n",
       "4      2017-12-14 14:45:00   2017-12-14 13:08:08          14.11   \n",
       "...                    ...                   ...            ...   \n",
       "36149  2017-02-25 16:00:00   2017-02-25 13:41:53          17.50   \n",
       "36150  2017-05-18 22:30:00   2017-05-17 21:51:14          46.25   \n",
       "36151  2017-10-23 18:30:00   2017-10-19 15:46:46          55.19   \n",
       "36152  2017-02-19 19:45:00   2017-02-19 18:10:59          10.62   \n",
       "36153  2017-02-11 16:30:00   2017-02-09 18:16:52         114.75   \n",
       "\n",
       "       TripStartHour  TripStartDay  TripStartMonth  TripStartWeekDay  \\\n",
       "0                 22            14              11                 1   \n",
       "1                 17             7              12                 3   \n",
       "2                 10            23               3                 3   \n",
       "3                 19             5               7                 2   \n",
       "4                 13            14              12                 3   \n",
       "...              ...           ...             ...               ...   \n",
       "36149             14            25               2                 5   \n",
       "36150             13            18               5                 3   \n",
       "36151              8            23              10                 0   \n",
       "36152             18            19               2                 6   \n",
       "36153             13            10               2                 4   \n",
       "\n",
       "       tripDurationInHour  preBookingDurationInHour  utilizationInHour  \\\n",
       "0                       4                         1               3.75   \n",
       "1                      11                        12              11.50   \n",
       "2                       2                         1               2.50   \n",
       "3                       6                        17               7.00   \n",
       "4                       1                         0               1.00   \n",
       "...                   ...                       ...                ...   \n",
       "36149                   2                         0               2.50   \n",
       "36150                   9                        15               9.00   \n",
       "36151                  10                        88              10.00   \n",
       "36152                   1                         0               1.00   \n",
       "36153                  26                        19              27.00   \n",
       "\n",
       "       availabilityInHour  \n",
       "0                     4.0  \n",
       "1                    12.0  \n",
       "2                     3.0  \n",
       "3                     7.0  \n",
       "4                     1.0  \n",
       "...                   ...  \n",
       "36149                 3.0  \n",
       "36150                 9.0  \n",
       "36151                10.0  \n",
       "36152                 1.0  \n",
       "36153                27.0  \n",
       "\n",
       "[36154 rows x 16 columns]"
      ]
     },
     "execution_count": 119,
     "metadata": {},
     "output_type": "execute_result"
    }
   ],
   "source": [
    "# read dfJourneysSanFranciscoDerived & storre into dfJourneysSanFrancisco df\n",
    "dfJourneysSanFrancisco = pd.read_csv('dfJourneysSanFranciscoDerived.csv')\n",
    "dfJourneysSanFrancisco"
   ]
  },
  {
   "cell_type": "code",
   "execution_count": 120,
   "metadata": {},
   "outputs": [
    {
     "data": {
      "text/html": [
       "<div>\n",
       "<style scoped>\n",
       "    .dataframe tbody tr th:only-of-type {\n",
       "        vertical-align: middle;\n",
       "    }\n",
       "\n",
       "    .dataframe tbody tr th {\n",
       "        vertical-align: top;\n",
       "    }\n",
       "\n",
       "    .dataframe thead th {\n",
       "        text-align: right;\n",
       "    }\n",
       "</style>\n",
       "<table border=\"1\" class=\"dataframe\">\n",
       "  <thead>\n",
       "    <tr style=\"text-align: right;\">\n",
       "      <th></th>\n",
       "      <th>carParkingZipCode</th>\n",
       "      <th>priceInDollar</th>\n",
       "      <th>TripStartHour</th>\n",
       "      <th>TripStartDay</th>\n",
       "      <th>TripStartMonth</th>\n",
       "      <th>TripStartWeekDay</th>\n",
       "      <th>tripDurationInHour</th>\n",
       "      <th>preBookingDurationInHour</th>\n",
       "      <th>utilizationInHour</th>\n",
       "      <th>availabilityInHour</th>\n",
       "    </tr>\n",
       "  </thead>\n",
       "  <tbody>\n",
       "    <tr>\n",
       "      <th>count</th>\n",
       "      <td>36154.000000</td>\n",
       "      <td>36154.000000</td>\n",
       "      <td>36154.000000</td>\n",
       "      <td>36154.000000</td>\n",
       "      <td>36154.000000</td>\n",
       "      <td>36154.000000</td>\n",
       "      <td>36154.000000</td>\n",
       "      <td>36154.000000</td>\n",
       "      <td>36154.000000</td>\n",
       "      <td>36154.000000</td>\n",
       "    </tr>\n",
       "    <tr>\n",
       "      <th>mean</th>\n",
       "      <td>94113.237650</td>\n",
       "      <td>51.757989</td>\n",
       "      <td>12.514604</td>\n",
       "      <td>15.954804</td>\n",
       "      <td>8.136168</td>\n",
       "      <td>3.298529</td>\n",
       "      <td>8.638021</td>\n",
       "      <td>14.763816</td>\n",
       "      <td>8.954121</td>\n",
       "      <td>9.174816</td>\n",
       "    </tr>\n",
       "    <tr>\n",
       "      <th>std</th>\n",
       "      <td>8.712961</td>\n",
       "      <td>56.346224</td>\n",
       "      <td>4.757060</td>\n",
       "      <td>8.791377</td>\n",
       "      <td>3.121537</td>\n",
       "      <td>1.973695</td>\n",
       "      <td>12.662178</td>\n",
       "      <td>38.818126</td>\n",
       "      <td>12.269945</td>\n",
       "      <td>12.322676</td>\n",
       "    </tr>\n",
       "    <tr>\n",
       "      <th>min</th>\n",
       "      <td>94102.000000</td>\n",
       "      <td>3.030000</td>\n",
       "      <td>0.000000</td>\n",
       "      <td>1.000000</td>\n",
       "      <td>1.000000</td>\n",
       "      <td>0.000000</td>\n",
       "      <td>1.000000</td>\n",
       "      <td>0.000000</td>\n",
       "      <td>0.000000</td>\n",
       "      <td>0.000000</td>\n",
       "    </tr>\n",
       "    <tr>\n",
       "      <th>25%</th>\n",
       "      <td>94105.000000</td>\n",
       "      <td>24.750000</td>\n",
       "      <td>9.000000</td>\n",
       "      <td>8.000000</td>\n",
       "      <td>6.000000</td>\n",
       "      <td>2.000000</td>\n",
       "      <td>3.000000</td>\n",
       "      <td>0.000000</td>\n",
       "      <td>3.500000</td>\n",
       "      <td>4.000000</td>\n",
       "    </tr>\n",
       "    <tr>\n",
       "      <th>50%</th>\n",
       "      <td>94112.000000</td>\n",
       "      <td>39.190000</td>\n",
       "      <td>12.000000</td>\n",
       "      <td>16.000000</td>\n",
       "      <td>9.000000</td>\n",
       "      <td>4.000000</td>\n",
       "      <td>6.000000</td>\n",
       "      <td>2.000000</td>\n",
       "      <td>6.000000</td>\n",
       "      <td>6.000000</td>\n",
       "    </tr>\n",
       "    <tr>\n",
       "      <th>75%</th>\n",
       "      <td>94118.000000</td>\n",
       "      <td>62.070000</td>\n",
       "      <td>16.000000</td>\n",
       "      <td>24.000000</td>\n",
       "      <td>11.000000</td>\n",
       "      <td>5.000000</td>\n",
       "      <td>9.000000</td>\n",
       "      <td>15.000000</td>\n",
       "      <td>9.500000</td>\n",
       "      <td>10.000000</td>\n",
       "    </tr>\n",
       "    <tr>\n",
       "      <th>max</th>\n",
       "      <td>94133.000000</td>\n",
       "      <td>2590.000000</td>\n",
       "      <td>23.000000</td>\n",
       "      <td>31.000000</td>\n",
       "      <td>12.000000</td>\n",
       "      <td>6.000000</td>\n",
       "      <td>518.000000</td>\n",
       "      <td>670.000000</td>\n",
       "      <td>463.000000</td>\n",
       "      <td>463.000000</td>\n",
       "    </tr>\n",
       "  </tbody>\n",
       "</table>\n",
       "</div>"
      ],
      "text/plain": [
       "       carParkingZipCode  priceInDollar  TripStartHour  TripStartDay  \\\n",
       "count       36154.000000   36154.000000   36154.000000  36154.000000   \n",
       "mean        94113.237650      51.757989      12.514604     15.954804   \n",
       "std             8.712961      56.346224       4.757060      8.791377   \n",
       "min         94102.000000       3.030000       0.000000      1.000000   \n",
       "25%         94105.000000      24.750000       9.000000      8.000000   \n",
       "50%         94112.000000      39.190000      12.000000     16.000000   \n",
       "75%         94118.000000      62.070000      16.000000     24.000000   \n",
       "max         94133.000000    2590.000000      23.000000     31.000000   \n",
       "\n",
       "       TripStartMonth  TripStartWeekDay  tripDurationInHour  \\\n",
       "count    36154.000000      36154.000000        36154.000000   \n",
       "mean         8.136168          3.298529            8.638021   \n",
       "std          3.121537          1.973695           12.662178   \n",
       "min          1.000000          0.000000            1.000000   \n",
       "25%          6.000000          2.000000            3.000000   \n",
       "50%          9.000000          4.000000            6.000000   \n",
       "75%         11.000000          5.000000            9.000000   \n",
       "max         12.000000          6.000000          518.000000   \n",
       "\n",
       "       preBookingDurationInHour  utilizationInHour  availabilityInHour  \n",
       "count              36154.000000       36154.000000        36154.000000  \n",
       "mean                  14.763816           8.954121            9.174816  \n",
       "std                   38.818126          12.269945           12.322676  \n",
       "min                    0.000000           0.000000            0.000000  \n",
       "25%                    0.000000           3.500000            4.000000  \n",
       "50%                    2.000000           6.000000            6.000000  \n",
       "75%                   15.000000           9.500000           10.000000  \n",
       "max                  670.000000         463.000000          463.000000  "
      ]
     },
     "execution_count": 120,
     "metadata": {},
     "output_type": "execute_result"
    }
   ],
   "source": [
    "dfJourneysSanFrancisco.describe()"
   ]
  },
  {
   "cell_type": "code",
   "execution_count": 121,
   "metadata": {},
   "outputs": [
    {
     "name": "stdout",
     "output_type": "stream",
     "text": [
      "24.75 39.19 62.07\n",
      "Interquartile range is 37.32\n",
      "Lower limit is -31.230000000000004\n",
      "Upper limit is 118.05000000000001\n"
     ]
    }
   ],
   "source": [
    "Q1 = np.percentile(dfJourneysSanFrancisco['priceInDollar'], 25, interpolation = 'midpoint')\n",
    "Q2 = np.percentile(dfJourneysSanFrancisco['priceInDollar'], 50, interpolation = 'midpoint')  \n",
    "Q3 = np.percentile(dfJourneysSanFrancisco['priceInDollar'], 75, interpolation = 'midpoint')\n",
    "print(Q1, Q2, Q3)\n",
    "\n",
    "IQR = Q3 - Q1\n",
    "print('Interquartile range is', IQR)\n",
    "\n",
    "lowerLimit = Q1 - 1.5 * IQR\n",
    "print('Lower limit is', lowerLimit)\n",
    "\n",
    "upperLimit = Q3 + 1.5 * IQR\n",
    "print('Upper limit is', upperLimit)\n",
    "\n",
    "#outlier =[]\n",
    "#for x in dfJourneysSanFrancisco['priceInDollar']:\n",
    "#    if ((x> upperLimit) or (x<lowerLimit)):\n",
    "#         outlier.append(x)\n",
    "#print(' outlier in the dataset is', outlier)\n",
    "#len(outlier)\n",
    "\n",
    "# dropping outliers records\n",
    "dfJourneysSanFrancisco.drop(dfJourneysSanFrancisco[(dfJourneysSanFrancisco['priceInDollar'] > upperLimit) | (dfJourneysSanFrancisco['priceInDollar'] < lowerLimit)].index, inplace = True)\n"
   ]
  },
  {
   "cell_type": "markdown",
   "metadata": {},
   "source": [
    "**Visualizations**"
   ]
  },
  {
   "cell_type": "code",
   "execution_count": 122,
   "metadata": {},
   "outputs": [
    {
     "data": {
      "text/plain": [
       "<AxesSubplot:ylabel='priceInDollar'>"
      ]
     },
     "execution_count": 122,
     "metadata": {},
     "output_type": "execute_result"
    },
    {
     "data": {
      "image/png": "[encoded data removed]",
      "text/plain": [
       "<Figure size 360x360 with 1 Axes>"
      ]
     },
     "metadata": {
      "needs_background": "light"
     },
     "output_type": "display_data"
    }
   ],
   "source": [
    "plt.figure(figsize=(5,5))\n",
    "sns.boxplot(y=dfJourneysSanFrancisco[\"priceInDollar\"])"
   ]
  },
  {
   "cell_type": "code",
   "execution_count": 123,
   "metadata": {},
   "outputs": [
    {
     "data": {
      "text/plain": [
       "<AxesSubplot:ylabel='tripDurationInHour'>"
      ]
     },
     "execution_count": 123,
     "metadata": {},
     "output_type": "execute_result"
    },
    {
     "data": {
      "image/png": "[encoded data removed]",
      "text/plain": [
       "<Figure size 360x360 with 1 Axes>"
      ]
     },
     "metadata": {
      "needs_background": "light"
     },
     "output_type": "display_data"
    }
   ],
   "source": [
    "plt.figure(figsize=(5,5))\n",
    "sns.boxplot(y=dfJourneysSanFrancisco[\"tripDurationInHour\"])\n",
    "# 2.5 days of journey is logically acceptable"
   ]
  },
  {
   "cell_type": "code",
   "execution_count": 124,
   "metadata": {},
   "outputs": [
    {
     "data": {
      "text/plain": [
       "<AxesSubplot:ylabel='preBookingDurationInHour'>"
      ]
     },
     "execution_count": 124,
     "metadata": {},
     "output_type": "execute_result"
    },
    {
     "data": {
      "image/png": "[encoded data removed]",
      "text/plain": [
       "<Figure size 360x360 with 1 Axes>"
      ]
     },
     "metadata": {
      "needs_background": "light"
     },
     "output_type": "display_data"
    }
   ],
   "source": [
    "plt.figure(figsize=(5,5))\n",
    "sns.boxplot(y=dfJourneysSanFrancisco[\"preBookingDurationInHour\"])\n",
    "# 1 month prior book is logically acceptable"
   ]
  },
  {
   "cell_type": "code",
   "execution_count": 125,
   "metadata": {},
   "outputs": [
    {
     "data": {
      "text/plain": [
       "<seaborn.axisgrid.FacetGrid at 0x209cf3b5580>"
      ]
     },
     "execution_count": 125,
     "metadata": {},
     "output_type": "execute_result"
    },
    {
     "data": {
      "image/png": "[encoded data removed]",
      "text/plain": [
       "<Figure size 360x360 with 1 Axes>"
      ]
     },
     "metadata": {
      "needs_background": "light"
     },
     "output_type": "display_data"
    },
    {
     "data": {
      "image/png": "[encoded data removed]",
      "text/plain": [
       "<Figure size 360x360 with 1 Axes>"
      ]
     },
     "metadata": {
      "needs_background": "light"
     },
     "output_type": "display_data"
    }
   ],
   "source": [
    "sns.relplot(x='tripDurationInHour', y='priceInDollar', data=dfJourneysSanFrancisco)\n",
    "sns.relplot(x='preBookingDurationInHour', y='priceInDollar', data=dfJourneysSanFrancisco)"
   ]
  },
  {
   "cell_type": "code",
   "execution_count": 133,
   "metadata": {},
   "outputs": [],
   "source": [
    "#plt.figure(figsize=(12,8))\n",
    "#sns.barplot(x=\"priceInDollar\", y=\"city\", data=dfJourneysSanFrancisco)\n",
    "#dfJourneysSanFrancisco"
   ]
  },
  {
   "cell_type": "code",
   "execution_count": 127,
   "metadata": {},
   "outputs": [
    {
     "data": {
      "text/plain": [
       "<AxesSubplot:xlabel='TripStartMonth', ylabel='priceInDollar'>"
      ]
     },
     "execution_count": 127,
     "metadata": {},
     "output_type": "execute_result"
    },
    {
     "data": {
      "image/png": "[encoded data removed]",
      "text/plain": [
       "<Figure size 864x576 with 1 Axes>"
      ]
     },
     "metadata": {
      "needs_background": "light"
     },
     "output_type": "display_data"
    }
   ],
   "source": [
    "plt.figure(figsize=(12,8))\n",
    "sns.barplot(x=\"TripStartMonth\", y=\"priceInDollar\", data=dfJourneysSanFrancisco)"
   ]
  },
  {
   "cell_type": "code",
   "execution_count": 129,
   "metadata": {},
   "outputs": [
    {
     "data": {
      "text/plain": [
       "<AxesSubplot:xlabel='TripStartWeekDay', ylabel='priceInDollar'>"
      ]
     },
     "execution_count": 129,
     "metadata": {},
     "output_type": "execute_result"
    },
    {
     "data": {
      "image/png": "[encoded data removed]",
      "text/plain": [
       "<Figure size 864x576 with 1 Axes>"
      ]
     },
     "metadata": {
      "needs_background": "light"
     },
     "output_type": "display_data"
    }
   ],
   "source": [
    "#Monday=0, Sunday=6\n",
    "plt.figure(figsize=(12,8))\n",
    "sns.barplot(x=\"TripStartWeekDay\", y=\"priceInDollar\", data=dfJourneysSanFrancisco)"
   ]
  },
  {
   "cell_type": "code",
   "execution_count": 131,
   "metadata": {},
   "outputs": [
    {
     "data": {
      "text/plain": [
       "<AxesSubplot:xlabel='TripStartHour', ylabel='priceInDollar'>"
      ]
     },
     "execution_count": 131,
     "metadata": {},
     "output_type": "execute_result"
    },
    {
     "data": {
      "image/png": "[encoded data removed]",
      "text/plain": [
       "<Figure size 864x576 with 1 Axes>"
      ]
     },
     "metadata": {
      "needs_background": "light"
     },
     "output_type": "display_data"
    }
   ],
   "source": [
    "plt.figure(figsize=(12,8))\n",
    "sns.barplot(x=\"TripStartHour\", y=\"priceInDollar\", data=dfJourneysSanFrancisco)"
   ]
  },
  {
   "cell_type": "code",
   "execution_count": 132,
   "metadata": {},
   "outputs": [
    {
     "data": {
      "text/plain": [
       "<AxesSubplot:xlabel='TripStartHour', ylabel='count'>"
      ]
     },
     "execution_count": 132,
     "metadata": {},
     "output_type": "execute_result"
    },
    {
     "data": {
      "image/png": "[encoded data removed]",
      "text/plain": [
       "<Figure size 864x576 with 1 Axes>"
      ]
     },
     "metadata": {
      "needs_background": "light"
     },
     "output_type": "display_data"
    }
   ],
   "source": [
    "plt.figure(figsize=(12,8))\n",
    "sns.countplot(x=\"TripStartHour\", data=dfJourneysSanFrancisco)\n",
    "# its clear that during early morning & late night, the car rent is extremely high\n",
    "# 9 - 12 seems to be peak hours\n",
    "# again 16 - 17 the car demand seems to be rising"
   ]
  },
  {
   "cell_type": "markdown",
   "metadata": {},
   "source": [
    "**Derive variables**"
   ]
  },
  {
   "cell_type": "code",
   "execution_count": 135,
   "metadata": {},
   "outputs": [],
   "source": [
    "# Required functions-\n",
    "\n",
    "# Bifurcate dataset into weekday & weekend\n",
    "def fn_is_weekend(row):\n",
    "    if ((row['TripStartWeekDay'] == 5) | (row['TripStartWeekDay'] == 6)):\n",
    "        return 1\n",
    "    else:\n",
    "        return 0\n",
    "\n",
    "# Bifurcate dataset into yearly quarters\n",
    "def fn_get_year_quarters(row):\n",
    "    if ((row['TripStartMonth'] >= 0) & (row['TripStartMonth'] <= 2)):\n",
    "        return 1\n",
    "    elif ((row['TripStartMonth'] >= 3) & (row['TripStartMonth'] <= 5)):\n",
    "        return 2\n",
    "    elif ((row['TripStartMonth'] >= 6) & (row['TripStartMonth'] <= 8)):\n",
    "        return 3\n",
    "    else:\n",
    "        return 4\n",
    "\n",
    "# Bifurcate dataset w.r.t. daily hours\n",
    "'''\n",
    "1 : 21 - 5  : nightHours\n",
    "2 : 6 - 7   : morningNonPeakHours\n",
    "3 : 8 - 13  : morningPeakHours\n",
    "4 : 14 - 17 : eveningPeakHours\n",
    "5 : 18 - 20 : eveningNonPeakHours\n",
    "'''\n",
    "def fn_get_peak_hours(row):\n",
    "    if ((row['TripStartHour'] >= 21) | (row['TripStartHour'] <= 5)):\n",
    "        return 'nightHours'\n",
    "    elif ((row['TripStartHour'] == 6) | (row['TripStartHour'] == 7)):\n",
    "        return 'morningNonPeakHours'\n",
    "    elif ((row['TripStartHour'] >= 8) & (row['TripStartHour'] <= 13)):\n",
    "        return 'morningPeakHours'\n",
    "    elif ((row['TripStartHour'] >= 14) & (row['TripStartHour'] <= 17)):\n",
    "        return 'eveningPeakHours'\n",
    "    else:\n",
    "        return 'eveningNonPeakHours'"
   ]
  },
  {
   "cell_type": "code",
   "execution_count": 136,
   "metadata": {},
   "outputs": [],
   "source": [
    "dfJourneysSanFrancisco['isWeekend'] = dfJourneysSanFrancisco.apply(lambda x: fn_is_weekend(x), axis=1)\n",
    "dfJourneysSanFrancisco['yearQuarter'] = dfJourneysSanFrancisco.apply(lambda x: fn_get_year_quarters(x), axis=1)\n",
    "dfJourneysSanFrancisco['peakHours'] = dfJourneysSanFrancisco.apply(lambda x: fn_get_peak_hours(x), axis=1)    "
   ]
  },
  {
   "cell_type": "code",
   "execution_count": 137,
   "metadata": {},
   "outputs": [
    {
     "data": {
      "text/html": [
       "<div>\n",
       "<style scoped>\n",
       "    .dataframe tbody tr th:only-of-type {\n",
       "        vertical-align: middle;\n",
       "    }\n",
       "\n",
       "    .dataframe tbody tr th {\n",
       "        vertical-align: top;\n",
       "    }\n",
       "\n",
       "    .dataframe thead th {\n",
       "        text-align: right;\n",
       "    }\n",
       "</style>\n",
       "<table border=\"1\" class=\"dataframe\">\n",
       "  <thead>\n",
       "    <tr style=\"text-align: right;\">\n",
       "      <th></th>\n",
       "      <th>tripId</th>\n",
       "      <th>carId</th>\n",
       "      <th>carParkingZipCode</th>\n",
       "      <th>carParkingCity</th>\n",
       "      <th>localTripStartTime</th>\n",
       "      <th>localTripEndTime</th>\n",
       "      <th>localTripCreationTime</th>\n",
       "      <th>priceInDollar</th>\n",
       "      <th>TripStartHour</th>\n",
       "      <th>TripStartDay</th>\n",
       "      <th>TripStartMonth</th>\n",
       "      <th>TripStartWeekDay</th>\n",
       "      <th>tripDurationInHour</th>\n",
       "      <th>preBookingDurationInHour</th>\n",
       "      <th>utilizationInHour</th>\n",
       "      <th>availabilityInHour</th>\n",
       "      <th>isWeekend</th>\n",
       "      <th>yearQuarter</th>\n",
       "      <th>peakHours</th>\n",
       "    </tr>\n",
       "  </thead>\n",
       "  <tbody>\n",
       "    <tr>\n",
       "      <th>0</th>\n",
       "      <td>00010247034d28272cf5e1e16b43f52f</td>\n",
       "      <td>9ddac6a5fb0b3962db3b2f42fd31d3f9</td>\n",
       "      <td>94110</td>\n",
       "      <td>San Francisco</td>\n",
       "      <td>2017-11-14 22:15:00</td>\n",
       "      <td>2017-11-15 02:15:00</td>\n",
       "      <td>2017-11-14 20:32:59</td>\n",
       "      <td>20.00</td>\n",
       "      <td>22</td>\n",
       "      <td>14</td>\n",
       "      <td>11</td>\n",
       "      <td>1</td>\n",
       "      <td>4</td>\n",
       "      <td>1</td>\n",
       "      <td>3.75</td>\n",
       "      <td>4.0</td>\n",
       "      <td>0</td>\n",
       "      <td>4</td>\n",
       "      <td>nightHours</td>\n",
       "    </tr>\n",
       "    <tr>\n",
       "      <th>1</th>\n",
       "      <td>0001556e5d28e66b3318e89c094186c4</td>\n",
       "      <td>0f386ec90e0710ca143922520eaf8a3e</td>\n",
       "      <td>94117</td>\n",
       "      <td>San Francisco</td>\n",
       "      <td>2017-12-07 17:00:00</td>\n",
       "      <td>2017-12-08 04:00:00</td>\n",
       "      <td>2017-12-07 04:51:42</td>\n",
       "      <td>55.00</td>\n",
       "      <td>17</td>\n",
       "      <td>7</td>\n",
       "      <td>12</td>\n",
       "      <td>3</td>\n",
       "      <td>11</td>\n",
       "      <td>12</td>\n",
       "      <td>11.50</td>\n",
       "      <td>12.0</td>\n",
       "      <td>0</td>\n",
       "      <td>4</td>\n",
       "      <td>eveningPeakHours</td>\n",
       "    </tr>\n",
       "    <tr>\n",
       "      <th>2</th>\n",
       "      <td>000286e8771651e6983555c62558b57f</td>\n",
       "      <td>63e4509c686d891f5364c24339369460</td>\n",
       "      <td>94115</td>\n",
       "      <td>San Francisco</td>\n",
       "      <td>2017-03-23 10:00:00</td>\n",
       "      <td>2017-03-23 12:00:00</td>\n",
       "      <td>2017-03-23 08:49:48</td>\n",
       "      <td>18.00</td>\n",
       "      <td>10</td>\n",
       "      <td>23</td>\n",
       "      <td>3</td>\n",
       "      <td>3</td>\n",
       "      <td>2</td>\n",
       "      <td>1</td>\n",
       "      <td>2.50</td>\n",
       "      <td>3.0</td>\n",
       "      <td>0</td>\n",
       "      <td>2</td>\n",
       "      <td>morningPeakHours</td>\n",
       "    </tr>\n",
       "    <tr>\n",
       "      <th>3</th>\n",
       "      <td>0003651ffd2f07a7226fd6b7c979fecb</td>\n",
       "      <td>c9fbe5bf8e406cd13bd33ff5411fa3e3</td>\n",
       "      <td>94103</td>\n",
       "      <td>San Francisco</td>\n",
       "      <td>2017-07-05 19:00:00</td>\n",
       "      <td>2017-07-06 01:45:00</td>\n",
       "      <td>2017-07-05 01:07:31</td>\n",
       "      <td>33.75</td>\n",
       "      <td>19</td>\n",
       "      <td>5</td>\n",
       "      <td>7</td>\n",
       "      <td>2</td>\n",
       "      <td>6</td>\n",
       "      <td>17</td>\n",
       "      <td>7.00</td>\n",
       "      <td>7.0</td>\n",
       "      <td>0</td>\n",
       "      <td>3</td>\n",
       "      <td>eveningNonPeakHours</td>\n",
       "    </tr>\n",
       "    <tr>\n",
       "      <th>4</th>\n",
       "      <td>00046a5e37fee728d9b1c0840741f944</td>\n",
       "      <td>812d1f2214d3fe7f9624f03b1a78cb61</td>\n",
       "      <td>94123</td>\n",
       "      <td>San Francisco</td>\n",
       "      <td>2017-12-14 13:15:00</td>\n",
       "      <td>2017-12-14 14:45:00</td>\n",
       "      <td>2017-12-14 13:08:08</td>\n",
       "      <td>14.11</td>\n",
       "      <td>13</td>\n",
       "      <td>14</td>\n",
       "      <td>12</td>\n",
       "      <td>3</td>\n",
       "      <td>1</td>\n",
       "      <td>0</td>\n",
       "      <td>1.00</td>\n",
       "      <td>1.0</td>\n",
       "      <td>0</td>\n",
       "      <td>4</td>\n",
       "      <td>morningPeakHours</td>\n",
       "    </tr>\n",
       "    <tr>\n",
       "      <th>...</th>\n",
       "      <td>...</td>\n",
       "      <td>...</td>\n",
       "      <td>...</td>\n",
       "      <td>...</td>\n",
       "      <td>...</td>\n",
       "      <td>...</td>\n",
       "      <td>...</td>\n",
       "      <td>...</td>\n",
       "      <td>...</td>\n",
       "      <td>...</td>\n",
       "      <td>...</td>\n",
       "      <td>...</td>\n",
       "      <td>...</td>\n",
       "      <td>...</td>\n",
       "      <td>...</td>\n",
       "      <td>...</td>\n",
       "      <td>...</td>\n",
       "      <td>...</td>\n",
       "      <td>...</td>\n",
       "    </tr>\n",
       "    <tr>\n",
       "      <th>36149</th>\n",
       "      <td>fff0fc15ad79ab5e93714bafa5a6dc20</td>\n",
       "      <td>26b26593b7a0f7a80b0a7a0747882a6d</td>\n",
       "      <td>94110</td>\n",
       "      <td>San Francisco</td>\n",
       "      <td>2017-02-25 14:00:00</td>\n",
       "      <td>2017-02-25 16:00:00</td>\n",
       "      <td>2017-02-25 13:41:53</td>\n",
       "      <td>17.50</td>\n",
       "      <td>14</td>\n",
       "      <td>25</td>\n",
       "      <td>2</td>\n",
       "      <td>5</td>\n",
       "      <td>2</td>\n",
       "      <td>0</td>\n",
       "      <td>2.50</td>\n",
       "      <td>3.0</td>\n",
       "      <td>1</td>\n",
       "      <td>1</td>\n",
       "      <td>eveningPeakHours</td>\n",
       "    </tr>\n",
       "    <tr>\n",
       "      <th>36150</th>\n",
       "      <td>fff8ae03853b573d81782ba277413dee</td>\n",
       "      <td>5fa4b685ba407cae4ea84b6a0fa80a0e</td>\n",
       "      <td>94103</td>\n",
       "      <td>San Francisco</td>\n",
       "      <td>2017-05-18 13:15:00</td>\n",
       "      <td>2017-05-18 22:30:00</td>\n",
       "      <td>2017-05-17 21:51:14</td>\n",
       "      <td>46.25</td>\n",
       "      <td>13</td>\n",
       "      <td>18</td>\n",
       "      <td>5</td>\n",
       "      <td>3</td>\n",
       "      <td>9</td>\n",
       "      <td>15</td>\n",
       "      <td>9.00</td>\n",
       "      <td>9.0</td>\n",
       "      <td>0</td>\n",
       "      <td>2</td>\n",
       "      <td>morningPeakHours</td>\n",
       "    </tr>\n",
       "    <tr>\n",
       "      <th>36151</th>\n",
       "      <td>fffb60627f2c2e408fef7d739543deee</td>\n",
       "      <td>d0b26f3508b4bb46f1f1b42708545df0</td>\n",
       "      <td>94108</td>\n",
       "      <td>San Francisco</td>\n",
       "      <td>2017-10-23 08:30:00</td>\n",
       "      <td>2017-10-23 18:30:00</td>\n",
       "      <td>2017-10-19 15:46:46</td>\n",
       "      <td>55.19</td>\n",
       "      <td>8</td>\n",
       "      <td>23</td>\n",
       "      <td>10</td>\n",
       "      <td>0</td>\n",
       "      <td>10</td>\n",
       "      <td>88</td>\n",
       "      <td>10.00</td>\n",
       "      <td>10.0</td>\n",
       "      <td>0</td>\n",
       "      <td>4</td>\n",
       "      <td>morningPeakHours</td>\n",
       "    </tr>\n",
       "    <tr>\n",
       "      <th>36152</th>\n",
       "      <td>fffd3b9e130841ba884e4fa880e44594</td>\n",
       "      <td>c687b40673df4c0fe842261a6d58b194</td>\n",
       "      <td>94114</td>\n",
       "      <td>San Francisco</td>\n",
       "      <td>2017-02-19 18:30:00</td>\n",
       "      <td>2017-02-19 19:45:00</td>\n",
       "      <td>2017-02-19 18:10:59</td>\n",
       "      <td>10.62</td>\n",
       "      <td>18</td>\n",
       "      <td>19</td>\n",
       "      <td>2</td>\n",
       "      <td>6</td>\n",
       "      <td>1</td>\n",
       "      <td>0</td>\n",
       "      <td>1.00</td>\n",
       "      <td>1.0</td>\n",
       "      <td>1</td>\n",
       "      <td>1</td>\n",
       "      <td>eveningNonPeakHours</td>\n",
       "    </tr>\n",
       "    <tr>\n",
       "      <th>36153</th>\n",
       "      <td>fffe5e2ee681c47cb3b4c2a6423dd63d</td>\n",
       "      <td>02ce66c135e69716d6a7346965a5b656</td>\n",
       "      <td>94110</td>\n",
       "      <td>San Francisco</td>\n",
       "      <td>2017-02-10 13:45:00</td>\n",
       "      <td>2017-02-11 16:30:00</td>\n",
       "      <td>2017-02-09 18:16:52</td>\n",
       "      <td>114.75</td>\n",
       "      <td>13</td>\n",
       "      <td>10</td>\n",
       "      <td>2</td>\n",
       "      <td>4</td>\n",
       "      <td>26</td>\n",
       "      <td>19</td>\n",
       "      <td>27.00</td>\n",
       "      <td>27.0</td>\n",
       "      <td>0</td>\n",
       "      <td>1</td>\n",
       "      <td>morningPeakHours</td>\n",
       "    </tr>\n",
       "  </tbody>\n",
       "</table>\n",
       "<p>34102 rows × 19 columns</p>\n",
       "</div>"
      ],
      "text/plain": [
       "                                 tripId                             carId  \\\n",
       "0      00010247034d28272cf5e1e16b43f52f  9ddac6a5fb0b3962db3b2f42fd31d3f9   \n",
       "1      0001556e5d28e66b3318e89c094186c4  0f386ec90e0710ca143922520eaf8a3e   \n",
       "2      000286e8771651e6983555c62558b57f  63e4509c686d891f5364c24339369460   \n",
       "3      0003651ffd2f07a7226fd6b7c979fecb  c9fbe5bf8e406cd13bd33ff5411fa3e3   \n",
       "4      00046a5e37fee728d9b1c0840741f944  812d1f2214d3fe7f9624f03b1a78cb61   \n",
       "...                                 ...                               ...   \n",
       "36149  fff0fc15ad79ab5e93714bafa5a6dc20  26b26593b7a0f7a80b0a7a0747882a6d   \n",
       "36150  fff8ae03853b573d81782ba277413dee  5fa4b685ba407cae4ea84b6a0fa80a0e   \n",
       "36151  fffb60627f2c2e408fef7d739543deee  d0b26f3508b4bb46f1f1b42708545df0   \n",
       "36152  fffd3b9e130841ba884e4fa880e44594  c687b40673df4c0fe842261a6d58b194   \n",
       "36153  fffe5e2ee681c47cb3b4c2a6423dd63d  02ce66c135e69716d6a7346965a5b656   \n",
       "\n",
       "       carParkingZipCode carParkingCity   localTripStartTime  \\\n",
       "0                  94110  San Francisco  2017-11-14 22:15:00   \n",
       "1                  94117  San Francisco  2017-12-07 17:00:00   \n",
       "2                  94115  San Francisco  2017-03-23 10:00:00   \n",
       "3                  94103  San Francisco  2017-07-05 19:00:00   \n",
       "4                  94123  San Francisco  2017-12-14 13:15:00   \n",
       "...                  ...            ...                  ...   \n",
       "36149              94110  San Francisco  2017-02-25 14:00:00   \n",
       "36150              94103  San Francisco  2017-05-18 13:15:00   \n",
       "36151              94108  San Francisco  2017-10-23 08:30:00   \n",
       "36152              94114  San Francisco  2017-02-19 18:30:00   \n",
       "36153              94110  San Francisco  2017-02-10 13:45:00   \n",
       "\n",
       "          localTripEndTime localTripCreationTime  priceInDollar  \\\n",
       "0      2017-11-15 02:15:00   2017-11-14 20:32:59          20.00   \n",
       "1      2017-12-08 04:00:00   2017-12-07 04:51:42          55.00   \n",
       "2      2017-03-23 12:00:00   2017-03-23 08:49:48          18.00   \n",
       "3      2017-07-06 01:45:00   2017-07-05 01:07:31          33.75   \n",
       "4      2017-12-14 14:45:00   2017-12-14 13:08:08          14.11   \n",
       "...                    ...                   ...            ...   \n",
       "36149  2017-02-25 16:00:00   2017-02-25 13:41:53          17.50   \n",
       "36150  2017-05-18 22:30:00   2017-05-17 21:51:14          46.25   \n",
       "36151  2017-10-23 18:30:00   2017-10-19 15:46:46          55.19   \n",
       "36152  2017-02-19 19:45:00   2017-02-19 18:10:59          10.62   \n",
       "36153  2017-02-11 16:30:00   2017-02-09 18:16:52         114.75   \n",
       "\n",
       "       TripStartHour  TripStartDay  TripStartMonth  TripStartWeekDay  \\\n",
       "0                 22            14              11                 1   \n",
       "1                 17             7              12                 3   \n",
       "2                 10            23               3                 3   \n",
       "3                 19             5               7                 2   \n",
       "4                 13            14              12                 3   \n",
       "...              ...           ...             ...               ...   \n",
       "36149             14            25               2                 5   \n",
       "36150             13            18               5                 3   \n",
       "36151              8            23              10                 0   \n",
       "36152             18            19               2                 6   \n",
       "36153             13            10               2                 4   \n",
       "\n",
       "       tripDurationInHour  preBookingDurationInHour  utilizationInHour  \\\n",
       "0                       4                         1               3.75   \n",
       "1                      11                        12              11.50   \n",
       "2                       2                         1               2.50   \n",
       "3                       6                        17               7.00   \n",
       "4                       1                         0               1.00   \n",
       "...                   ...                       ...                ...   \n",
       "36149                   2                         0               2.50   \n",
       "36150                   9                        15               9.00   \n",
       "36151                  10                        88              10.00   \n",
       "36152                   1                         0               1.00   \n",
       "36153                  26                        19              27.00   \n",
       "\n",
       "       availabilityInHour  isWeekend  yearQuarter            peakHours  \n",
       "0                     4.0          0            4           nightHours  \n",
       "1                    12.0          0            4     eveningPeakHours  \n",
       "2                     3.0          0            2     morningPeakHours  \n",
       "3                     7.0          0            3  eveningNonPeakHours  \n",
       "4                     1.0          0            4     morningPeakHours  \n",
       "...                   ...        ...          ...                  ...  \n",
       "36149                 3.0          1            1     eveningPeakHours  \n",
       "36150                 9.0          0            2     morningPeakHours  \n",
       "36151                10.0          0            4     morningPeakHours  \n",
       "36152                 1.0          1            1  eveningNonPeakHours  \n",
       "36153                27.0          0            1     morningPeakHours  \n",
       "\n",
       "[34102 rows x 19 columns]"
      ]
     },
     "execution_count": 137,
     "metadata": {},
     "output_type": "execute_result"
    }
   ],
   "source": [
    "dfJourneysSanFrancisco"
   ]
  },
  {
   "cell_type": "code",
   "execution_count": 138,
   "metadata": {},
   "outputs": [
    {
     "data": {
      "text/html": [
       "<div>\n",
       "<style scoped>\n",
       "    .dataframe tbody tr th:only-of-type {\n",
       "        vertical-align: middle;\n",
       "    }\n",
       "\n",
       "    .dataframe tbody tr th {\n",
       "        vertical-align: top;\n",
       "    }\n",
       "\n",
       "    .dataframe thead th {\n",
       "        text-align: right;\n",
       "    }\n",
       "</style>\n",
       "<table border=\"1\" class=\"dataframe\">\n",
       "  <thead>\n",
       "    <tr style=\"text-align: right;\">\n",
       "      <th></th>\n",
       "      <th>priceInDollar</th>\n",
       "      <th>tripDurationInHour</th>\n",
       "      <th>preBookingDurationInHour</th>\n",
       "      <th>utilizationInHour</th>\n",
       "      <th>availabilityInHour</th>\n",
       "      <th>isWeekend</th>\n",
       "      <th>yearQuarter</th>\n",
       "      <th>peakHours</th>\n",
       "    </tr>\n",
       "  </thead>\n",
       "  <tbody>\n",
       "    <tr>\n",
       "      <th>0</th>\n",
       "      <td>20.00</td>\n",
       "      <td>4</td>\n",
       "      <td>1</td>\n",
       "      <td>3.75</td>\n",
       "      <td>4.0</td>\n",
       "      <td>0</td>\n",
       "      <td>4</td>\n",
       "      <td>nightHours</td>\n",
       "    </tr>\n",
       "    <tr>\n",
       "      <th>1</th>\n",
       "      <td>55.00</td>\n",
       "      <td>11</td>\n",
       "      <td>12</td>\n",
       "      <td>11.50</td>\n",
       "      <td>12.0</td>\n",
       "      <td>0</td>\n",
       "      <td>4</td>\n",
       "      <td>eveningPeakHours</td>\n",
       "    </tr>\n",
       "    <tr>\n",
       "      <th>2</th>\n",
       "      <td>18.00</td>\n",
       "      <td>2</td>\n",
       "      <td>1</td>\n",
       "      <td>2.50</td>\n",
       "      <td>3.0</td>\n",
       "      <td>0</td>\n",
       "      <td>2</td>\n",
       "      <td>morningPeakHours</td>\n",
       "    </tr>\n",
       "    <tr>\n",
       "      <th>3</th>\n",
       "      <td>33.75</td>\n",
       "      <td>6</td>\n",
       "      <td>17</td>\n",
       "      <td>7.00</td>\n",
       "      <td>7.0</td>\n",
       "      <td>0</td>\n",
       "      <td>3</td>\n",
       "      <td>eveningNonPeakHours</td>\n",
       "    </tr>\n",
       "    <tr>\n",
       "      <th>4</th>\n",
       "      <td>14.11</td>\n",
       "      <td>1</td>\n",
       "      <td>0</td>\n",
       "      <td>1.00</td>\n",
       "      <td>1.0</td>\n",
       "      <td>0</td>\n",
       "      <td>4</td>\n",
       "      <td>morningPeakHours</td>\n",
       "    </tr>\n",
       "    <tr>\n",
       "      <th>...</th>\n",
       "      <td>...</td>\n",
       "      <td>...</td>\n",
       "      <td>...</td>\n",
       "      <td>...</td>\n",
       "      <td>...</td>\n",
       "      <td>...</td>\n",
       "      <td>...</td>\n",
       "      <td>...</td>\n",
       "    </tr>\n",
       "    <tr>\n",
       "      <th>36149</th>\n",
       "      <td>17.50</td>\n",
       "      <td>2</td>\n",
       "      <td>0</td>\n",
       "      <td>2.50</td>\n",
       "      <td>3.0</td>\n",
       "      <td>1</td>\n",
       "      <td>1</td>\n",
       "      <td>eveningPeakHours</td>\n",
       "    </tr>\n",
       "    <tr>\n",
       "      <th>36150</th>\n",
       "      <td>46.25</td>\n",
       "      <td>9</td>\n",
       "      <td>15</td>\n",
       "      <td>9.00</td>\n",
       "      <td>9.0</td>\n",
       "      <td>0</td>\n",
       "      <td>2</td>\n",
       "      <td>morningPeakHours</td>\n",
       "    </tr>\n",
       "    <tr>\n",
       "      <th>36151</th>\n",
       "      <td>55.19</td>\n",
       "      <td>10</td>\n",
       "      <td>88</td>\n",
       "      <td>10.00</td>\n",
       "      <td>10.0</td>\n",
       "      <td>0</td>\n",
       "      <td>4</td>\n",
       "      <td>morningPeakHours</td>\n",
       "    </tr>\n",
       "    <tr>\n",
       "      <th>36152</th>\n",
       "      <td>10.62</td>\n",
       "      <td>1</td>\n",
       "      <td>0</td>\n",
       "      <td>1.00</td>\n",
       "      <td>1.0</td>\n",
       "      <td>1</td>\n",
       "      <td>1</td>\n",
       "      <td>eveningNonPeakHours</td>\n",
       "    </tr>\n",
       "    <tr>\n",
       "      <th>36153</th>\n",
       "      <td>114.75</td>\n",
       "      <td>26</td>\n",
       "      <td>19</td>\n",
       "      <td>27.00</td>\n",
       "      <td>27.0</td>\n",
       "      <td>0</td>\n",
       "      <td>1</td>\n",
       "      <td>morningPeakHours</td>\n",
       "    </tr>\n",
       "  </tbody>\n",
       "</table>\n",
       "<p>34102 rows × 8 columns</p>\n",
       "</div>"
      ],
      "text/plain": [
       "       priceInDollar  tripDurationInHour  preBookingDurationInHour  \\\n",
       "0              20.00                   4                         1   \n",
       "1              55.00                  11                        12   \n",
       "2              18.00                   2                         1   \n",
       "3              33.75                   6                        17   \n",
       "4              14.11                   1                         0   \n",
       "...              ...                 ...                       ...   \n",
       "36149          17.50                   2                         0   \n",
       "36150          46.25                   9                        15   \n",
       "36151          55.19                  10                        88   \n",
       "36152          10.62                   1                         0   \n",
       "36153         114.75                  26                        19   \n",
       "\n",
       "       utilizationInHour  availabilityInHour  isWeekend  yearQuarter  \\\n",
       "0                   3.75                 4.0          0            4   \n",
       "1                  11.50                12.0          0            4   \n",
       "2                   2.50                 3.0          0            2   \n",
       "3                   7.00                 7.0          0            3   \n",
       "4                   1.00                 1.0          0            4   \n",
       "...                  ...                 ...        ...          ...   \n",
       "36149               2.50                 3.0          1            1   \n",
       "36150               9.00                 9.0          0            2   \n",
       "36151              10.00                10.0          0            4   \n",
       "36152               1.00                 1.0          1            1   \n",
       "36153              27.00                27.0          0            1   \n",
       "\n",
       "                 peakHours  \n",
       "0               nightHours  \n",
       "1         eveningPeakHours  \n",
       "2         morningPeakHours  \n",
       "3      eveningNonPeakHours  \n",
       "4         morningPeakHours  \n",
       "...                    ...  \n",
       "36149     eveningPeakHours  \n",
       "36150     morningPeakHours  \n",
       "36151     morningPeakHours  \n",
       "36152  eveningNonPeakHours  \n",
       "36153     morningPeakHours  \n",
       "\n",
       "[34102 rows x 8 columns]"
      ]
     },
     "execution_count": 138,
     "metadata": {},
     "output_type": "execute_result"
    }
   ],
   "source": [
    "dfJourneysSanFrancisco = dfJourneysSanFrancisco[['priceInDollar','tripDurationInHour','preBookingDurationInHour'\\\n",
    "                                                 ,'utilizationInHour','availabilityInHour','isWeekend','yearQuarter'\\\n",
    "                                                 ,'peakHours']]\n",
    "dfJourneysSanFrancisco"
   ]
  },
  {
   "cell_type": "code",
   "execution_count": 139,
   "metadata": {},
   "outputs": [],
   "source": [
    "dfDummies2 = pd.get_dummies(dfJourneysSanFrancisco['yearQuarter'])\n",
    "dfDummies2.columns = ['yearQuarter' + str(col) for col in dfDummies2.columns]\n",
    "dfJourneysSanFrancisco = pd.concat([dfJourneysSanFrancisco, dfDummies2], axis=1)\n",
    "dfJourneysSanFrancisco.drop('yearQuarter', axis=1, inplace=True)\n",
    "\n",
    "dfDummies3 = pd.get_dummies(dfJourneysSanFrancisco['peakHours'])\n",
    "dfDummies3.columns = [str(col) for col in dfDummies3.columns]\n",
    "dfJourneysSanFrancisco = pd.concat([dfJourneysSanFrancisco, dfDummies3], axis=1)\n",
    "dfJourneysSanFrancisco.drop('peakHours', axis=1, inplace=True)"
   ]
  },
  {
   "cell_type": "code",
   "execution_count": 140,
   "metadata": {},
   "outputs": [
    {
     "data": {
      "text/plain": [
       "Index(['priceInDollar', 'tripDurationInHour', 'preBookingDurationInHour',\n",
       "       'utilizationInHour', 'availabilityInHour', 'isWeekend', 'yearQuarter1',\n",
       "       'yearQuarter2', 'yearQuarter3', 'yearQuarter4', 'eveningNonPeakHours',\n",
       "       'eveningPeakHours', 'morningNonPeakHours', 'morningPeakHours',\n",
       "       'nightHours'],\n",
       "      dtype='object')"
      ]
     },
     "execution_count": 140,
     "metadata": {},
     "output_type": "execute_result"
    }
   ],
   "source": [
    "# Final data\n",
    "dfJourneysSanFrancisco.columns"
   ]
  },
  {
   "cell_type": "code",
   "execution_count": 74,
   "metadata": {},
   "outputs": [],
   "source": [
    "#dfJourneysSanFrancisco.iloc[:, dfJourneysSanFrancisco.columns != 'priceInDollar']\n",
    "#dfJourneysSanFrancisco.iloc[:, 0]"
   ]
  },
  {
   "cell_type": "code",
   "execution_count": 145,
   "metadata": {},
   "outputs": [
    {
     "name": "stdout",
     "output_type": "stream",
     "text": [
      "(27281, 14) (6821, 14)\n"
     ]
    }
   ],
   "source": [
    "from sklearn.model_selection import train_test_split\n",
    "X_train, X_test, y_train, y_test = train_test_split( dfJourneysSanFrancisco.iloc[:, dfJourneysSanFrancisco.columns != 'priceInDollar'], dfJourneysSanFrancisco.iloc[:, 0], test_size = 0.20, random_state = 1)\n",
    "print(X_train.shape, X_test.shape)"
   ]
  },
  {
   "cell_type": "code",
   "execution_count": 142,
   "metadata": {},
   "outputs": [
    {
     "data": {
      "text/plain": [
       "tripDurationInHour            int64\n",
       "preBookingDurationInHour      int64\n",
       "utilizationInHour           float64\n",
       "availabilityInHour          float64\n",
       "isWeekend                     int64\n",
       "yearQuarter1                  uint8\n",
       "yearQuarter2                  uint8\n",
       "yearQuarter3                  uint8\n",
       "yearQuarter4                  uint8\n",
       "eveningNonPeakHours           uint8\n",
       "eveningPeakHours              uint8\n",
       "morningNonPeakHours           uint8\n",
       "morningPeakHours              uint8\n",
       "nightHours                    uint8\n",
       "dtype: object"
      ]
     },
     "execution_count": 142,
     "metadata": {},
     "output_type": "execute_result"
    }
   ],
   "source": [
    "X_train.dtypes"
   ]
  },
  {
   "cell_type": "code",
   "execution_count": 146,
   "metadata": {},
   "outputs": [
    {
     "name": "stderr",
     "output_type": "stream",
     "text": [
      "C:\\ProgramData\\Anaconda3\\lib\\site-packages\\seaborn\\distributions.py:2551: FutureWarning: `distplot` is a deprecated function and will be removed in a future version. Please adapt your code to use either `displot` (a figure-level function with similar flexibility) or `histplot` (an axes-level function for histograms).\n",
      "  warnings.warn(msg, FutureWarning)\n"
     ]
    },
    {
     "data": {
      "image/png": "[encoded data removed]",
      "text/plain": [
       "<Figure size 432x288 with 1 Axes>"
      ]
     },
     "metadata": {
      "needs_background": "light"
     },
     "output_type": "display_data"
    }
   ],
   "source": [
    "# Normality check for training data \n",
    "sns.distplot(y_train,bins='auto',color='green')\n",
    "plt.title(\"Distribution for priceInDollar\")\n",
    "plt.ylabel(\"Density\")\n",
    "plt.show()"
   ]
  },
  {
   "cell_type": "code",
   "execution_count": 147,
   "metadata": {},
   "outputs": [],
   "source": [
    "#If skewness of target variable is high, apply log transform to reduce the skewness-\n",
    "#y_train = np.log1p(y_train)\n",
    "\n",
    "#Normality re-check post applying log transform-\n",
    "#sns.distplot(y_train,bins='auto',color='green')\n",
    "#plt.title(\"Distribution for priceInDollar\")\n",
    "#plt.ylabel(\"Density\")\n",
    "#plt.show()"
   ]
  },
  {
   "cell_type": "code",
   "execution_count": 148,
   "metadata": {},
   "outputs": [
    {
     "name": "stderr",
     "output_type": "stream",
     "text": [
      "C:\\ProgramData\\Anaconda3\\lib\\site-packages\\seaborn\\distributions.py:2551: FutureWarning: `distplot` is a deprecated function and will be removed in a future version. Please adapt your code to use either `displot` (a figure-level function with similar flexibility) or `histplot` (an axes-level function for histograms).\n",
      "  warnings.warn(msg, FutureWarning)\n"
     ]
    },
    {
     "data": {
      "image/png": "[encoded data removed]",
      "text/plain": [
       "<Figure size 432x288 with 1 Axes>"
      ]
     },
     "metadata": {
      "needs_background": "light"
     },
     "output_type": "display_data"
    }
   ],
   "source": [
    "# Normality check for testing data \n",
    "sns.distplot(y_test,bins='auto',color='green')\n",
    "plt.title(\"Distribution for priceInDollar\")\n",
    "plt.ylabel(\"Density\")\n",
    "plt.show()"
   ]
  },
  {
   "cell_type": "markdown",
   "metadata": {},
   "source": [
    "**Apply Modelling**"
   ]
  },
  {
   "cell_type": "code",
   "execution_count": 150,
   "metadata": {},
   "outputs": [],
   "source": [
    "# Import packages for modeling\n",
    "from sklearn.metrics import mean_squared_error\n",
    "from sklearn.metrics import r2_score\n",
    "from sklearn.linear_model import LinearRegression\n",
    "from sklearn.tree import DecisionTreeRegressor\n",
    "from sklearn.ensemble import RandomForestRegressor\n",
    "from sklearn.ensemble import GradientBoostingRegressor\n",
    "from sklearn.model_selection import GridSearchCV\n",
    "from sklearn.model_selection import RandomizedSearchCV"
   ]
  },
  {
   "cell_type": "markdown",
   "metadata": {},
   "source": [
    "**Linear Regression**"
   ]
  },
  {
   "cell_type": "code",
   "execution_count": 151,
   "metadata": {},
   "outputs": [],
   "source": [
    "# Building model on top of training dataset\n",
    "fit_LR = LinearRegression().fit(X_train , y_train)"
   ]
  },
  {
   "cell_type": "code",
   "execution_count": 152,
   "metadata": {},
   "outputs": [
    {
     "name": "stdout",
     "output_type": "stream",
     "text": [
      "Root Mean Squared Error For Training data = 13.254672976912078\n"
     ]
    },
    {
     "data": {
      "text/plain": [
       "0.7071783884366294"
      ]
     },
     "execution_count": 152,
     "metadata": {},
     "output_type": "execute_result"
    }
   ],
   "source": [
    "#prediction on train data\n",
    "pred_train_LR = fit_LR.predict(X_train)\n",
    "\n",
    "##calculating RMSE for train data\n",
    "RMSE_train_LR= np.sqrt(mean_squared_error(y_train, pred_train_LR))\n",
    "\n",
    "print(\"Root Mean Squared Error For Training data = \"+str(RMSE_train_LR))\n",
    "\n",
    "#calculate R^2 for train data\n",
    "r2_score(y_train, pred_train_LR)"
   ]
  },
  {
   "cell_type": "code",
   "execution_count": 153,
   "metadata": {},
   "outputs": [
    {
     "name": "stdout",
     "output_type": "stream",
     "text": [
      "Root Mean Squared Error For test data = 13.714139385972848\n"
     ]
    },
    {
     "data": {
      "text/plain": [
       "0.690807057761735"
      ]
     },
     "execution_count": 153,
     "metadata": {},
     "output_type": "execute_result"
    }
   ],
   "source": [
    "#prediction on test data\n",
    "pred_test_LR = fit_LR.predict(X_test)\n",
    "\n",
    "##calculating RMSE for train data\n",
    "RMSE_test_LR= np.sqrt(mean_squared_error(y_test, pred_test_LR))\n",
    "\n",
    "print(\"Root Mean Squared Error For test data = \"+str(RMSE_test_LR))\n",
    "\n",
    "#calculate R^2 for test data\n",
    "r2_score(y_test, pred_test_LR)"
   ]
  },
  {
   "cell_type": "markdown",
   "metadata": {},
   "source": [
    "**Decision Tree**"
   ]
  },
  {
   "cell_type": "code",
   "execution_count": 154,
   "metadata": {},
   "outputs": [],
   "source": [
    "fit_DT = DecisionTreeRegressor(max_depth = 2).fit(X_train,y_train)"
   ]
  },
  {
   "cell_type": "code",
   "execution_count": 155,
   "metadata": {},
   "outputs": [
    {
     "name": "stdout",
     "output_type": "stream",
     "text": [
      "Root Mean Squared Error For Training data = 13.788439815280144\n"
     ]
    },
    {
     "data": {
      "text/plain": [
       "0.6831196217628758"
      ]
     },
     "execution_count": 155,
     "metadata": {},
     "output_type": "execute_result"
    }
   ],
   "source": [
    "#prediction on train data\n",
    "pred_train_DT = fit_DT.predict(X_train)\n",
    "\n",
    "##calculating RMSE for train data\n",
    "RMSE_train_DT = np.sqrt(mean_squared_error(y_train, pred_train_DT))\n",
    "\n",
    "print(\"Root Mean Squared Error For Training data = \"+str(RMSE_train_DT))\n",
    "\n",
    "## R^2 calculation for train data\n",
    "r2_score(y_train, pred_train_DT)"
   ]
  },
  {
   "cell_type": "code",
   "execution_count": 156,
   "metadata": {},
   "outputs": [
    {
     "name": "stdout",
     "output_type": "stream",
     "text": [
      "Root Mean Squared Error For Test data = 13.951559777990736\n"
     ]
    },
    {
     "data": {
      "text/plain": [
       "0.6800088390033581"
      ]
     },
     "execution_count": 156,
     "metadata": {},
     "output_type": "execute_result"
    }
   ],
   "source": [
    "#prediction on test data\n",
    "pred_test_DT = fit_DT.predict(X_test)\n",
    "\n",
    "##calculating RMSE for test data\n",
    "RMSE_test_DT = np.sqrt(mean_squared_error(y_test, pred_test_DT))\n",
    "\n",
    "print(\"Root Mean Squared Error For Test data = \"+str(RMSE_test_DT))\n",
    "\n",
    "## R^2 calculation for test data\n",
    "r2_score(y_test, pred_test_DT)"
   ]
  },
  {
   "cell_type": "markdown",
   "metadata": {},
   "source": [
    "**Random Forest**"
   ]
  },
  {
   "cell_type": "code",
   "execution_count": 157,
   "metadata": {},
   "outputs": [],
   "source": [
    "fit_RF = RandomForestRegressor().fit(X_train,y_train)"
   ]
  },
  {
   "cell_type": "code",
   "execution_count": 158,
   "metadata": {},
   "outputs": [
    {
     "name": "stdout",
     "output_type": "stream",
     "text": [
      "Root Mean Squared Error For Training data = 6.934335952764474\n"
     ]
    },
    {
     "data": {
      "text/plain": [
       "0.9198552923632891"
      ]
     },
     "execution_count": 158,
     "metadata": {},
     "output_type": "execute_result"
    }
   ],
   "source": [
    "#prediction on train data\n",
    "pred_train_RF = fit_RF.predict(X_train)\n",
    "\n",
    "##calculating RMSE for train data\n",
    "RMSE_train_RF = np.sqrt(mean_squared_error(y_train, pred_train_RF))\n",
    "\n",
    "print(\"Root Mean Squared Error For Training data = \"+str(RMSE_train_RF))\n",
    "\n",
    "## calculate R^2 for train data\n",
    "r2_score(y_train, pred_train_RF)"
   ]
  },
  {
   "cell_type": "code",
   "execution_count": 159,
   "metadata": {},
   "outputs": [
    {
     "name": "stdout",
     "output_type": "stream",
     "text": [
      "Root Mean Squared Error For Test data = 11.287258097304136\n"
     ]
    },
    {
     "data": {
      "text/plain": [
       "0.7905553046746484"
      ]
     },
     "execution_count": 159,
     "metadata": {},
     "output_type": "execute_result"
    }
   ],
   "source": [
    "#prediction on test data\n",
    "pred_test_RF = fit_RF.predict(X_test)\n",
    "\n",
    "##calculating RMSE for test data\n",
    "RMSE_test_RF = np.sqrt(mean_squared_error(y_test, pred_test_RF))\n",
    "\n",
    "print(\"Root Mean Squared Error For Test data = \"+str(RMSE_test_RF))\n",
    "\n",
    "#calculate R^2 for test data\n",
    "r2_score(y_test, pred_test_RF)"
   ]
  },
  {
   "cell_type": "markdown",
   "metadata": {},
   "source": [
    "**Gradient Boosting**"
   ]
  },
  {
   "cell_type": "code",
   "execution_count": 160,
   "metadata": {},
   "outputs": [],
   "source": [
    "fit_GB = GradientBoostingRegressor().fit(X_train, y_train)"
   ]
  },
  {
   "cell_type": "code",
   "execution_count": 161,
   "metadata": {},
   "outputs": [
    {
     "name": "stdout",
     "output_type": "stream",
     "text": [
      "Root Mean Squared Error For Training data = 10.357930739244951\n"
     ]
    },
    {
     "data": {
      "text/plain": [
       "0.8211820558643234"
      ]
     },
     "execution_count": 161,
     "metadata": {},
     "output_type": "execute_result"
    }
   ],
   "source": [
    "#prediction on train data\n",
    "pred_train_GB = fit_GB.predict(X_train)\n",
    "\n",
    "##calculating RMSE for train data\n",
    "RMSE_train_GB = np.sqrt(mean_squared_error(y_train, pred_train_GB))\n",
    "\n",
    "print(\"Root Mean Squared Error For Training data = \"+str(RMSE_train_GB))\n",
    "\n",
    "#calculate R^2 for test data\n",
    "r2_score(y_train, pred_train_GB)"
   ]
  },
  {
   "cell_type": "code",
   "execution_count": 162,
   "metadata": {},
   "outputs": [
    {
     "name": "stdout",
     "output_type": "stream",
     "text": [
      "Root Mean Squared Error For Test data = 10.546728092021244\n"
     ]
    },
    {
     "data": {
      "text/plain": [
       "0.8171361106364905"
      ]
     },
     "execution_count": 162,
     "metadata": {},
     "output_type": "execute_result"
    }
   ],
   "source": [
    "#prediction on test data\n",
    "pred_test_GB = fit_GB.predict(X_test)\n",
    "\n",
    "##calculating RMSE for test data\n",
    "RMSE_test_GB = np.sqrt(mean_squared_error(y_test, pred_test_GB))\n",
    "\n",
    "print(\"Root Mean Squared Error For Test data = \"+str(RMSE_test_GB))\n",
    "\n",
    "#calculate R^2 for test data\n",
    "r2_score(y_test, pred_test_GB)"
   ]
  },
  {
   "cell_type": "markdown",
   "metadata": {},
   "source": [
    "**Cross validation: Random Search CV on gradient boosting model**"
   ]
  },
  {
   "cell_type": "code",
   "execution_count": 163,
   "metadata": {
    "scrolled": true
   },
   "outputs": [
    {
     "name": "stdout",
     "output_type": "stream",
     "text": [
      "Parameters currently in use:\n",
      "\n",
      "{'alpha': 0.9,\n",
      " 'ccp_alpha': 0.0,\n",
      " 'criterion': 'friedman_mse',\n",
      " 'init': None,\n",
      " 'learning_rate': 0.1,\n",
      " 'loss': 'ls',\n",
      " 'max_depth': 3,\n",
      " 'max_features': None,\n",
      " 'max_leaf_nodes': None,\n",
      " 'min_impurity_decrease': 0.0,\n",
      " 'min_impurity_split': None,\n",
      " 'min_samples_leaf': 1,\n",
      " 'min_samples_split': 2,\n",
      " 'min_weight_fraction_leaf': 0.0,\n",
      " 'n_estimators': 100,\n",
      " 'n_iter_no_change': None,\n",
      " 'presort': 'deprecated',\n",
      " 'random_state': 0,\n",
      " 'subsample': 1.0,\n",
      " 'tol': 0.0001,\n",
      " 'validation_fraction': 0.1,\n",
      " 'verbose': 0,\n",
      " 'warm_start': False}\n"
     ]
    }
   ],
   "source": [
    "#check the current parameters\n",
    "gb = GradientBoostingRegressor(random_state = 0)\n",
    "from pprint import pprint\n",
    "# Look at parameters used by our current forest\n",
    "print('Parameters currently in use:\\n')\n",
    "pprint(gb.get_params())"
   ]
  },
  {
   "cell_type": "code",
   "execution_count": 165,
   "metadata": {},
   "outputs": [
    {
     "name": "stdout",
     "output_type": "stream",
     "text": [
      "Random Search CV Gradient Boosting Model Performance Report:\n",
      "Best Model =  GradientBoostingRegressor(max_depth=97, n_estimators=19, random_state=0)\n",
      "Best Parameters =  {'n_estimators': 19, 'max_depth': 97}\n",
      "R-squared = 0.73.\n",
      "RMSE =  12.791638124214918\n"
     ]
    }
   ],
   "source": [
    "gb = GradientBoostingRegressor(random_state = 0)\n",
    "n_estimator = list(range(1,20,2))\n",
    "depth = list(range(1,100,2))\n",
    "params = {'n_estimators': n_estimator, 'max_depth': depth}\n",
    "\n",
    "randomcv_gb = RandomizedSearchCV(gb, param_distributions = params, n_iter = 10, cv = 5, random_state=0)\n",
    "randomcv_gb = randomcv_gb.fit(X_train,y_train)\n",
    "predictions_gb = randomcv_gb.predict(X_test)\n",
    "\n",
    "best_params = randomcv_gb.best_params_\n",
    "best_model = randomcv_gb.best_estimator_\n",
    "\n",
    "predictions_gb = best_model.predict(X_test)\n",
    "\n",
    "r2 = r2_score(y_test, predictions_gb)\n",
    "rmse = np.sqrt(mean_squared_error(y_test,predictions_gb))\n",
    "\n",
    "print('Random Search CV Gradient Boosting Model Performance Report:')\n",
    "print('Best Model = ',best_model)\n",
    "print('Best Parameters = ',best_params)\n",
    "print('R-squared = {:0.2}.'.format(r2))\n",
    "print('RMSE = ', rmse)"
   ]
  },
  {
   "cell_type": "markdown",
   "metadata": {},
   "source": [
    "**Model evaluation**"
   ]
  },
  {
   "cell_type": "code",
   "execution_count": 170,
   "metadata": {},
   "outputs": [
    {
     "name": "stdout",
     "output_type": "stream",
     "text": [
      "GradientBoostingRegressor(max_depth=9, n_estimators=15, random_state=0) Performance Report:\n",
      "R-squared = 0.73.\n",
      "RMSE =  12.791638124214918\n"
     ]
    }
   ],
   "source": [
    "model = GradientBoostingRegressor(max_depth=97, n_estimators=19, random_state=0)\n",
    "model.fit(X_train, y_train)\n",
    "predictions = model.predict(X_test)\n",
    "\n",
    "r2 = r2_score(y_test, predictions)\n",
    "rmse = np.sqrt(mean_squared_error(y_test,predictions))\n",
    "\n",
    "print('GradientBoostingRegressor(max_depth=9, n_estimators=15, random_state=0) Performance Report:')\n",
    "print('R-squared = {:0.2}.'.format(r2))\n",
    "print('RMSE = ', rmse)\n"
   ]
  },
  {
   "cell_type": "code",
   "execution_count": null,
   "metadata": {},
   "outputs": [],
   "source": []
  },
  {
   "cell_type": "markdown",
   "metadata": {},
   "source": [
    "**Cross validation: Random Search CV on Random forest**"
   ]
  },
  {
   "cell_type": "code",
   "execution_count": 171,
   "metadata": {},
   "outputs": [
    {
     "name": "stdout",
     "output_type": "stream",
     "text": [
      "Random Search CV Gradient Boosting Model Performance Report:\n",
      "Best Model =  RandomForestRegressor(max_depth=9, n_estimators=15, random_state=0)\n",
      "Best Parameters =  {'n_estimators': 15, 'max_depth': 9}\n",
      "R-squared = 0.82.\n",
      "RMSE =  10.475367262921118\n"
     ]
    }
   ],
   "source": [
    "gb = RandomForestRegressor(random_state = 0)\n",
    "n_estimator = list(range(1,20,2))\n",
    "depth = list(range(1,100,2))\n",
    "params = {'n_estimators': n_estimator, 'max_depth': depth}\n",
    "\n",
    "randomcv_gb = RandomizedSearchCV(gb, param_distributions = params, n_iter = 5, cv = 5, random_state=0)\n",
    "randomcv_gb = randomcv_gb.fit(X_train,y_train)\n",
    "predictions_gb = randomcv_gb.predict(X_test)\n",
    "\n",
    "best_params = randomcv_gb.best_params_\n",
    "best_model = randomcv_gb.best_estimator_\n",
    "\n",
    "predictions_gb = best_model.predict(X_test)\n",
    "\n",
    "r2 = r2_score(y_test, predictions_gb)\n",
    "rmse = np.sqrt(mean_squared_error(y_test,predictions_gb))\n",
    "\n",
    "print('Random Search CV Gradient Boosting Model Performance Report:')\n",
    "print('Best Model = ',best_model)\n",
    "print('Best Parameters = ',best_params)\n",
    "print('R-squared = {:0.2}.'.format(r2))\n",
    "print('RMSE = ', rmse)"
   ]
  },
  {
   "cell_type": "code",
   "execution_count": 172,
   "metadata": {},
   "outputs": [
    {
     "name": "stdout",
     "output_type": "stream",
     "text": [
      "RandomForestRegressor(max_depth=9, n_estimators=15, random_state=0) Performance Report:\n",
      "R-squared = 0.82.\n",
      "RMSE =  10.475367262921118\n"
     ]
    }
   ],
   "source": [
    "# Evaluate\n",
    "model = RandomForestRegressor(max_depth=9, n_estimators=15, random_state=0)\n",
    "model.fit(X_train, y_train)\n",
    "predictions = model.predict(X_test)\n",
    "\n",
    "r2 = r2_score(y_test, predictions)\n",
    "rmse = np.sqrt(mean_squared_error(y_test,predictions))\n",
    "\n",
    "print('RandomForestRegressor(max_depth=9, n_estimators=15, random_state=0) Performance Report:')\n",
    "print('R-squared = {:0.2}.'.format(r2))\n",
    "print('RMSE = ', rmse)"
   ]
  },
  {
   "cell_type": "markdown",
   "metadata": {},
   "source": [
    "Best model: RandomForestRegressor(max_depth=9, n_estimators=15, random_state=0)\n",
    "\n",
    "R-squared = 0.82\n",
    "\n",
    "RMSE =  10.475367262921118\n"
   ]
  }
 ],
 "metadata": {
  "kernelspec": {
   "display_name": "Python 3",
   "language": "python",
   "name": "python3"
  },
  "language_info": {
   "codemirror_mode": {
    "name": "ipython",
    "version": 3
   },
   "file_extension": ".py",
   "mimetype": "text/x-python",
   "name": "python",
   "nbconvert_exporter": "python",
   "pygments_lexer": "ipython3",
   "version": "3.8.5"
  }
 },
 "nbformat": 4,
 "nbformat_minor": 4
}
